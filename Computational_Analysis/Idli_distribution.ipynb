{
  "nbformat": 4,
  "nbformat_minor": 0,
  "metadata": {
    "colab": {
      "provenance": []
    },
    "kernelspec": {
      "name": "python3",
      "display_name": "Python 3"
    },
    "language_info": {
      "name": "python"
    }
  },
  "cells": [
    {
      "cell_type": "code",
      "execution_count": 2,
      "metadata": {
        "colab": {
          "base_uri": "https://localhost:8080/"
        },
        "id": "F9alPsjumnrW",
        "outputId": "5b20dd43-49ce-4325-9be8-c040ff9a5f5c"
      },
      "outputs": [
        {
          "output_type": "stream",
          "name": "stdout",
          "text": [
            "Test Case 1: 0\n",
            "Test Case 2: -1\n",
            "Test Case 3: 8\n",
            "Test Case 4: -1\n",
            "Test Case 5: 6\n"
          ]
        }
      ],
      "source": [
        "def distribute(queue):\n",
        "    total_idlis = sum(queue)\n",
        "    if total_idlis % 2 != 0:\n",
        "        return -1\n",
        "\n",
        "    clusters = []\n",
        "    current_cluster = 0\n",
        "    for idlis in queue:\n",
        "        if idlis % 2 != 0:\n",
        "            current_cluster += 1\n",
        "        else:\n",
        "            if current_cluster > 0:\n",
        "                clusters.append(current_cluster)\n",
        "                current_cluster = 0\n",
        "\n",
        "    if current_cluster > 0:\n",
        "        clusters.append(current_cluster)\n",
        "\n",
        "    return sum((cluster * 2 + 2) for cluster in clusters)\n",
        "\n",
        "# Test Cases\n",
        "idlis_queue1 = [2, 4, 6, 8, 10]\n",
        "idlis_queue2 = [1, 3, 5, 7, 9]\n",
        "idlis_queue3 = [2, 3, 4, 5, 6]\n",
        "idlis_queue4 = [2, 4, 6, 7, 8]\n",
        "idlis_queue5 = [2, 4, 5, 7, 8]\n",
        "\n",
        "test_cases = [idlis_queue1, idlis_queue2, idlis_queue3, idlis_queue4, idlis_queue5]\n",
        "\n",
        "for i, queue in enumerate(test_cases, start=1):\n",
        "    result = distribute(queue)\n",
        "    print(f\"Test Case {i}: {result}\")\n"
      ]
    }
  ]
}