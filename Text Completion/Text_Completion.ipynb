{
  "nbformat": 4,
  "nbformat_minor": 0,
  "metadata": {
    "colab": {
      "provenance": []
    },
    "kernelspec": {
      "name": "python3",
      "display_name": "Python 3"
    },
    "language_info": {
      "name": "python"
    }
  },
  "cells": [
    {
      "cell_type": "code",
      "execution_count": 1,
      "metadata": {
        "colab": {
          "base_uri": "https://localhost:8080/"
        },
        "id": "NZx0IX-k5EU2",
        "outputId": "5417354d-6001-420e-a0ae-cc57ca4afbbd"
      },
      "outputs": [
        {
          "output_type": "stream",
          "name": "stdout",
          "text": [
            "Auto-completion suggestions for prefix 'app':\n",
            "['app', 'apple', 'application']\n"
          ]
        }
      ],
      "source": [
        "class TrieNode:\n",
        "    def __init__(self):\n",
        "        self.children = {}\n",
        "        self.is_end_of_word = False\n",
        "\n",
        "\n",
        "class Trie:\n",
        "    def __init__(self):\n",
        "        self.root = TrieNode()\n",
        "\n",
        "    def insert(self, word):\n",
        "        node = self.root\n",
        "        for char in word:\n",
        "            if char not in node.children:\n",
        "                node.children[char] = TrieNode()\n",
        "            node = node.children[char]\n",
        "        node.is_end_of_word = True\n",
        "\n",
        "    def search(self, prefix):\n",
        "        node = self.root\n",
        "        suggestions = []\n",
        "        for char in prefix:\n",
        "            if char not in node.children:\n",
        "                return []\n",
        "            node = node.children[char]\n",
        "        self._dfs(node, prefix, suggestions)\n",
        "        return suggestions\n",
        "\n",
        "    def _dfs(self, node, prefix, suggestions):\n",
        "        if node.is_end_of_word:\n",
        "            suggestions.append(prefix)\n",
        "        for char, child_node in node.children.items():\n",
        "            self._dfs(child_node, prefix + char, suggestions)\n",
        "\n",
        "\n",
        "# Example usage:\n",
        "trie = Trie()\n",
        "words = [\"apple\", \"app\", \"application\", \"banana\", \"ball\", \"bat\"]\n",
        "for word in words:\n",
        "    trie.insert(word)\n",
        "\n",
        "prefix = \"app\"\n",
        "suggestions = trie.search(prefix)\n",
        "print(\"Auto-completion suggestions for prefix '{}':\".format(prefix))\n",
        "print(suggestions)"
      ]
    }
  ]
}